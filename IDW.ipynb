{
 "cells": [
  {
   "cell_type": "markdown",
   "id": "43c25fc8",
   "metadata": {},
   "source": [
    "# Inverse distance weighting"
   ]
  },
  {
   "cell_type": "markdown",
   "id": "238cfb21",
   "metadata": {},
   "source": [
    "https://pareekshithkatti.medium.com/inverse-distance-weighting-interpolation-in-python-68351fb612d2"
   ]
  },
  {
   "cell_type": "markdown",
   "id": "fd029f40",
   "metadata": {},
   "source": [
    "Python package: https://github.com/yahyatamim/pyidw"
   ]
  },
  {
   "cell_type": "code",
   "execution_count": null,
   "id": "d6f641d8",
   "metadata": {},
   "outputs": [],
   "source": []
  }
 ],
 "metadata": {
  "kernelspec": {
   "display_name": "Python 3 (ipykernel)",
   "language": "python",
   "name": "python3"
  },
  "language_info": {
   "codemirror_mode": {
    "name": "ipython",
    "version": 3
   },
   "file_extension": ".py",
   "mimetype": "text/x-python",
   "name": "python",
   "nbconvert_exporter": "python",
   "pygments_lexer": "ipython3",
   "version": "3.11.4"
  }
 },
 "nbformat": 4,
 "nbformat_minor": 5
}
