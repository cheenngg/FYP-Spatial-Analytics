{
 "cells": [
  {
   "cell_type": "code",
   "execution_count": null,
   "id": "915a354a",
   "metadata": {},
   "outputs": [],
   "source": [
    "def f_performance_det(z_simulated, z_true):\n",
    "    error_sign = z_simulated - z_true\n",
    "    error_abs = np.abs(error_sign)\n",
    "    error_2 = error_sign ** 2\n",
    "    RMSE = np.sqrt(np.sum(error_2) / len(error_2))\n",
    "    ME = np.sum(error_sign) / len(z_simulated)\n",
    "    MAE = np.sum(error_abs) / len(z_simulated)\n",
    "    NSE = 1 - np.sum(error_2) / np.sum((z_true - np.mean(z_true)) ** 2)\n",
    "    return error_sign, RMSE, ME, MAE, NSE\n"
   ]
  }
 ],
 "metadata": {
  "kernelspec": {
   "display_name": "Python 3 (ipykernel)",
   "language": "python",
   "name": "python3"
  },
  "language_info": {
   "codemirror_mode": {
    "name": "ipython",
    "version": 3
   },
   "file_extension": ".py",
   "mimetype": "text/x-python",
   "name": "python",
   "nbconvert_exporter": "python",
   "pygments_lexer": "ipython3",
   "version": "3.11.4"
  }
 },
 "nbformat": 4,
 "nbformat_minor": 5
}
