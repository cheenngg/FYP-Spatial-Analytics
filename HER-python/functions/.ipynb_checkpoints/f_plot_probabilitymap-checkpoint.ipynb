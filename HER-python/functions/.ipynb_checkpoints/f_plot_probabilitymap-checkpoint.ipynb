{
 "cells": [
  {
   "cell_type": "code",
   "execution_count": null,
   "id": "92101d70",
   "metadata": {},
   "outputs": [],
   "source": [
    "import numpy as np\n",
    "import matplotlib.pyplot as plt\n",
    "\n",
    "def f_plot_probabilitymap(z_prob_plot, z_thresh, txt, x_target_grid, y_target_grid, x, y, z, idx_cal, shp_basin=None):\n",
    "    \"\"\"\n",
    "    function to plot the probabilty of z > z_thresh (HER probability map)\n",
    "    \"\"\"\n",
    "    # probabilty map\n",
    "    plt.figure()\n",
    "    plt.pcolor(x_target_grid, y_target_grid, z_prob_plot)\n",
    "    plt.xlabel('x')\n",
    "    plt.ylabel('y')\n",
    "    plt.gca().set_aspect('equal', adjustable='box')\n",
    "    plt.colorbar()\n",
    "    plt.scatter(x[idx_cal], y[idx_cal], s=1+70*(z[idx_cal]-np.min(z[idx_cal]))/(np.max(z[idx_cal])-np.min(z[idx_cal])), c='r', marker='+', linewidth=1)\n",
    "    plt.clim(0, 1)\n",
    "    plt.title(f\"Probability map [Probability Z>{z_thresh}] / {txt}\")\n",
    "    plt.show()"
   ]
  }
 ],
 "metadata": {
  "kernelspec": {
   "display_name": "Python 3 (ipykernel)",
   "language": "python",
   "name": "python3"
  },
  "language_info": {
   "codemirror_mode": {
    "name": "ipython",
    "version": 3
   },
   "file_extension": ".py",
   "mimetype": "text/x-python",
   "name": "python",
   "nbconvert_exporter": "python",
   "pygments_lexer": "ipython3",
   "version": "3.11.4"
  }
 },
 "nbformat": 4,
 "nbformat_minor": 5
}
