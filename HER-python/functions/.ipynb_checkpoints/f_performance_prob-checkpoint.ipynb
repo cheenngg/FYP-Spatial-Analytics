{
 "cells": [
  {
   "cell_type": "code",
   "execution_count": null,
   "id": "96509f89",
   "metadata": {},
   "outputs": [],
   "source": [
    "import numpy as np\n",
    "import matplotlib.pyplot as plt\n",
    "\n",
    "def f_performance_prob(z_true, PMF_simulated, PMF_true, edges_z):\n",
    "    if not isinstance(PMF_true, list): #true PMF = 1\n",
    "        probab_obs_val_pred = np.full(len(z_true), np.nan) #probability of z_obs (columns)\n",
    "        DKL_true_val_pred = np.full(len(z_true), np.nan)\n",
    "        for target in range(len(z_true)): #for each target\n",
    "            for i in range(len(edges_z)): #for each bin of z\n",
    "                if z_true[target] >= edges_z[i] and z_true[target] < edges_z[i+1]: # in case z_target is within the current bin\n",
    "                    prob_ = PMF_simulated[target] #temporary vector of the PMF \n",
    "                    probab_obs_val_pred[target] = prob_[i]               \n",
    "        for target in range(len(z_true)): #for each target\n",
    "            if PMF_true[target] == 0:\n",
    "                DKL_true_val_pred[target] = 0\n",
    "            else:\n",
    "                DKL_true_val_pred[target] = (np.log2(PMF_true[target]) - np.log2(probab_obs_val_pred[target]))*PMF_true[target] #calculate the DKL between the true value and the prediction\n",
    "        DKL_score = np.sum(DKL_true_val_pred) #accumulates the DKL of all predictions\n",
    "        DKL_score_mean = DKL_score/len(DKL_true_val_pred)\n",
    "    elif isinstance(PMF_true, list): #TODO verify if it is working\n",
    "        probab_obs_val_pred = np.full(len(z_true), np.nan) #probability of z_obs (columns)\n",
    "        probab_obs_val_true = np.full(len(z_true), np.nan) #probability of z_obs (columns)\n",
    "        DKL_true_val_pred = np.full(len(z_true), np.nan)\n",
    "        for target in range(len(z_true)): #for each target\n",
    "            for i in range(len(edges_z)): #for each bin of z\n",
    "                if z_true[target] >= edges_z[i] and z_true[target] < edges_z[i+1]: # in case z_target is within the current bin\n",
    "                    prob_ = PMF_simulated[target] #temporary vector of the PMF \n",
    "                    probab_obs_val_pred[target] = prob_[i]               \n",
    "        for target in range(len(z_true)): #for each target\n",
    "            for i in range(len(edges_z)): #for each bin of z\n",
    "                if z_true[target] >= edges_z[i] and z_true[target] < edges_z[i+1]: # in case z_target is within the current bin\n",
    "                    prob_ = PMF_true[target] #temporary vector of the PMF \n",
    "                    probab_obs_val_true[target] = prob_[i]               \n",
    "        for target in range(len(z_true)): #for each target\n",
    "            if probab_obs_val_true[target] == 0:\n",
    "                DKL_true_val_pred[target] = 0\n",
    "            else:\n",
    "                DKL_true_val_pred[target] = (np.log2(probab_obs_val_true[target]) - np.log2(probab_obs_val_pred[target]))*probab_obs_val_true[target] #calculate the DKL between the true value and the prediction\n",
    "        DKL_score = np.sum(DKL_true_val_pred) #accumulates the DKL of all predictions\n",
    "        DKL_score_mean = DKL_score/len(DKL_true_val_pred)\n",
    "    return DKL_score_mean"
   ]
  }
 ],
 "metadata": {
  "kernelspec": {
   "display_name": "Python 3 (ipykernel)",
   "language": "python",
   "name": "python3"
  },
  "language_info": {
   "codemirror_mode": {
    "name": "ipython",
    "version": 3
   },
   "file_extension": ".py",
   "mimetype": "text/x-python",
   "name": "python",
   "nbconvert_exporter": "python",
   "pygments_lexer": "ipython3",
   "version": "3.11.4"
  }
 },
 "nbformat": 4,
 "nbformat_minor": 5
}
