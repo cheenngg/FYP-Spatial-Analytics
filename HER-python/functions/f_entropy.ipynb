{
 "cells": [
  {
   "cell_type": "code",
   "execution_count": null,
   "id": "3f6e66dc",
   "metadata": {},
   "outputs": [],
   "source": [
    "import numpy as np\n",
    "\n",
    "def f_entropy(pdf):\n",
    "    \"\"\"\n",
    "    Computes the Shannon Information Entropy of a discrete distribution in bit (log base 2)\n",
    "    Input:\n",
    "    - pdf: [1,n] or [n,1] discrete probability density function (bin occupation frequencies, normalized to sum = 1)\n",
    "    Note:\n",
    "    - pdf has to sum up to 1\n",
    "    - if pdf contains NaNs, the output will be H = NaN\n",
    "    Output:\n",
    "    - H: Shannon entropy in [bit]\n",
    "    \"\"\"\n",
    "    # check if there are NaNs in pdf\n",
    "    if np.isnan(pdf).any():\n",
    "        return np.NaN\n",
    "    # check if pdf sums to 1\n",
    "    if abs(np.sum(pdf) - 1) > .00001:\n",
    "        raise ValueError('Probabilities don\\'t sum to 1.')\n",
    "    # everything ok with the input --> compute H\n",
    "    H = 0\n",
    "    # loop over all bins\n",
    "    for p in pdf:\n",
    "        if p != 0:\n",
    "            H += -np.log2(p) * p\n",
    "    return H\n",
    "\n",
    "\n"
   ]
  }
 ],
 "metadata": {
  "kernelspec": {
   "display_name": "Python 3 (ipykernel)",
   "language": "python",
   "name": "python3"
  },
  "language_info": {
   "codemirror_mode": {
    "name": "ipython",
    "version": 3
   },
   "file_extension": ".py",
   "mimetype": "text/x-python",
   "name": "python",
   "nbconvert_exporter": "python",
   "pygments_lexer": "ipython3",
   "version": "3.11.4"
  }
 },
 "nbformat": 4,
 "nbformat_minor": 5
}
