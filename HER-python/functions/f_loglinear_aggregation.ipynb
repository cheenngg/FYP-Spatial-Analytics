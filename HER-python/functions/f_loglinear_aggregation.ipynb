{
 "cells": [
  {
   "cell_type": "code",
   "execution_count": null,
   "id": "0cb43f0b",
   "metadata": {},
   "outputs": [],
   "source": [
    "def f_loglinear_aggregation(pdfs, wand_pdfs):\n",
    "    _, cols = np.where(pdfs == 0)\n",
    "    dummy = pdfs.copy()\n",
    "    if np.sum(dummy) > 0:\n",
    "        pdf_AND = np.sum(np.log(dummy) * wand_pdfs[:, np.newaxis], axis=0)\n",
    "        pdf_AND = np.exp(pdf_AND - np.max(pdf_AND))\n",
    "        pdf_AND = pdf_AND / np.sum(pdf_AND)\n",
    "    else:\n",
    "        raise ValueError(\"AND-combination resulted in empty set\")\n",
    "    return pdf_AND"
   ]
  }
 ],
 "metadata": {
  "kernelspec": {
   "display_name": "Python 3 (ipykernel)",
   "language": "python",
   "name": "python3"
  },
  "language_info": {
   "codemirror_mode": {
    "name": "ipython",
    "version": 3
   },
   "file_extension": ".py",
   "mimetype": "text/x-python",
   "name": "python",
   "nbconvert_exporter": "python",
   "pygments_lexer": "ipython3",
   "version": "3.11.4"
  }
 },
 "nbformat": 4,
 "nbformat_minor": 5
}
