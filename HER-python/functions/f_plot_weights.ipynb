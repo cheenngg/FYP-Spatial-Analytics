{
 "cells": [
  {
   "cell_type": "code",
   "execution_count": null,
   "id": "97456719",
   "metadata": {},
   "outputs": [],
   "source": [
    "def f_plot_weights(her):\n",
    "    \"\"\"\n",
    "    function to plot optimum weights\n",
    "    \"\"\"\n",
    "    plt.figure()\n",
    "    plt.plot(her['edges_distance_classes_range'][:-1], her['best_w_OR'], marker='.', markersize=15, linewidth=2)\n",
    "    plt.plot(her['edges_distance_classes_range'][:-1], her['best_w_AND'], marker='.', markersize=15, linewidth=2)\n",
    "    plt.ylim(0, 1)\n",
    "    for i in range(1, len(her['edges_distance_classes_range'])):\n",
    "        plt.axvline(x=her['edges_distance_classes_range'][i-1], color='black', linestyle='--')\n",
    "    plt.title(\"Optimum weights by class\")\n",
    "    plt.xlabel(\"Euclidean distance\")\n",
    "    plt.ylabel(\"Optimum weights\")\n",
    "    plt.legend([\"OR weights (DKL_O_R: {0})\".format(round(her['DKL_w_OR'], 2)), \"AND weights (DKL_A_N_D: {0})\".format(round(her['DKL_w_AND'], 2))])\n",
    "    plt.show()\n"
   ]
  }
 ],
 "metadata": {
  "kernelspec": {
   "display_name": "Python 3 (ipykernel)",
   "language": "python",
   "name": "python3"
  },
  "language_info": {
   "codemirror_mode": {
    "name": "ipython",
    "version": 3
   },
   "file_extension": ".py",
   "mimetype": "text/x-python",
   "name": "python",
   "nbconvert_exporter": "python",
   "pygments_lexer": "ipython3",
   "version": "3.11.4"
  }
 },
 "nbformat": 4,
 "nbformat_minor": 5
}
