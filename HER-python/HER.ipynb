{
 "cells": [
  {
   "cell_type": "code",
   "execution_count": 2,
   "id": "1d240ffc",
   "metadata": {},
   "outputs": [
    {
     "ename": "FileNotFoundError",
     "evalue": "[Errno 2] No such file or directory: 'datasets/LR1_input_randomfield_cal200.npz'",
     "output_type": "error",
     "traceback": [
      "\u001b[1;31m---------------------------------------------------------------------------\u001b[0m",
      "\u001b[1;31mFileNotFoundError\u001b[0m                         Traceback (most recent call last)",
      "Cell \u001b[1;32mIn[2], line 7\u001b[0m\n\u001b[0;32m      5\u001b[0m dim_cal \u001b[38;5;241m=\u001b[39m \u001b[38;5;241m200\u001b[39m\n\u001b[0;32m      6\u001b[0m txt \u001b[38;5;241m=\u001b[39m \u001b[38;5;124m'\u001b[39m\u001b[38;5;124mLR1\u001b[39m\u001b[38;5;124m'\u001b[39m\n\u001b[1;32m----> 7\u001b[0m npzfile \u001b[38;5;241m=\u001b[39m np\u001b[38;5;241m.\u001b[39mload(\u001b[38;5;124mf\u001b[39m\u001b[38;5;124m\"\u001b[39m\u001b[38;5;124mdatasets/\u001b[39m\u001b[38;5;132;01m{\u001b[39;00mtxt\u001b[38;5;132;01m}\u001b[39;00m\u001b[38;5;124m_input_randomfield_cal\u001b[39m\u001b[38;5;132;01m{\u001b[39;00mdim_cal\u001b[38;5;132;01m}\u001b[39;00m\u001b[38;5;124m.npz\u001b[39m\u001b[38;5;124m\"\u001b[39m)\n\u001b[0;32m      8\u001b[0m x_cal \u001b[38;5;241m=\u001b[39m npzfile[\u001b[38;5;124m'\u001b[39m\u001b[38;5;124mx_cal\u001b[39m\u001b[38;5;124m'\u001b[39m]\n\u001b[0;32m      9\u001b[0m y_cal \u001b[38;5;241m=\u001b[39m npzfile[\u001b[38;5;124m'\u001b[39m\u001b[38;5;124my_cal\u001b[39m\u001b[38;5;124m'\u001b[39m]\n",
      "File \u001b[1;32m~\\anaconda3\\Lib\\site-packages\\numpy\\lib\\npyio.py:405\u001b[0m, in \u001b[0;36mload\u001b[1;34m(file, mmap_mode, allow_pickle, fix_imports, encoding, max_header_size)\u001b[0m\n\u001b[0;32m    403\u001b[0m     own_fid \u001b[38;5;241m=\u001b[39m \u001b[38;5;28;01mFalse\u001b[39;00m\n\u001b[0;32m    404\u001b[0m \u001b[38;5;28;01melse\u001b[39;00m:\n\u001b[1;32m--> 405\u001b[0m     fid \u001b[38;5;241m=\u001b[39m stack\u001b[38;5;241m.\u001b[39menter_context(\u001b[38;5;28mopen\u001b[39m(os_fspath(file), \u001b[38;5;124m\"\u001b[39m\u001b[38;5;124mrb\u001b[39m\u001b[38;5;124m\"\u001b[39m))\n\u001b[0;32m    406\u001b[0m     own_fid \u001b[38;5;241m=\u001b[39m \u001b[38;5;28;01mTrue\u001b[39;00m\n\u001b[0;32m    408\u001b[0m \u001b[38;5;66;03m# Code to distinguish from NumPy binary files and pickles.\u001b[39;00m\n",
      "\u001b[1;31mFileNotFoundError\u001b[0m: [Errno 2] No such file or directory: 'datasets/LR1_input_randomfield_cal200.npz'"
     ]
    }
   ],
   "source": [
    "import functions\n",
    "import numpy as np\n",
    "\n",
    "# Load dataset\n",
    "dim_cal = 200\n",
    "txt = 'LR1'\n",
    "npzfile = np.load(f\"datasets/{txt}_input_randomfield_cal{dim_cal}.npz\")\n",
    "x_cal = npzfile['x_cal']\n",
    "y_cal = npzfile['y_cal']\n",
    "z_cal = npzfile['z_cal']\n",
    "her = {}\n",
    "her['txt'] = txt\n",
    "\n",
    "# Define infogram and Geo3 properties\n",
    "her['lag_dist'] = 2.0\n",
    "her['binwidth'] = 0.20\n",
    "her['binwidth_z'] = her['binwidth']\n",
    "her['n_neighbor'] = 12\n",
    "her['aggregation_type'] = 'andor'\n",
    "z_thresh = np.nan\n",
    "\n",
    "# Geo1: Spatial Characterization\n",
    "her = f_her_infogram(x_cal, y_cal, z_cal, her)\n",
    "f_plot_infogram(her)\n",
    "\n",
    "# Geo2: Weight optimization\n",
    "her = f_her_weight(x_cal, y_cal, z_cal, her)\n",
    "f_plot_weights(her)\n",
    "\n",
    "# Geo3: z PMF prediction\n",
    "x_target_grid, y_target_grid = np.meshgrid(np.arange(1, 101), np.arange(1, 101))\n",
    "x_target_grid = np.round(x_target_grid, 2)\n",
    "y_target_grid = np.round(y_target_grid, 2)\n",
    "x_target = x_target_grid.flatten()\n",
    "y_target = y_target_grid.flatten()\n",
    "pmf_pred_nn, target_idx_zero_neigh_pred = f_her_predict(x_cal, y_cal, z_cal, x_target, y_target, her)\n",
    "\n",
    "# Extract PMF statistics\n",
    "z_target_entropy_pred_GRID_plot, z_target_mean_pred_GRID_plot, z_target_median_pred_GRID_plot, z_target_mode_pred_GRID_plot, z_target_probability_pred_GRID_plot = f_extract_pmf_statistics(x_target_grid, y_target_grid, pmf_pred_nn, her['bin_centers_edges_z'], z_thresh)\n",
    "x_pmf = [10, 25, 47, 49]\n",
    "y_pmf = [42, 63, 16, 73]\n",
    "f_plot_prediction(z_target_mean_pred_GRID_plot, z_target_entropy_pred_GRID_plot, pmf_pred_nn, x_target, y_target, x_target_grid, y_target_grid, x, y, z, idx_cal, her, x_pmf, y_pmf, 'Y')\n",
    "f_plot_probabilitymap(z_target_probability_pred_GRID_plot, z_thresh, txt, x_target_grid, y_target_grid, x, y, z, idx_cal)\n",
    "\n",
    "\n"
   ]
  },
  {
   "cell_type": "code",
   "execution_count": null,
   "id": "bf0da40a",
   "metadata": {},
   "outputs": [],
   "source": []
  }
 ],
 "metadata": {
  "kernelspec": {
   "display_name": "Python 3 (ipykernel)",
   "language": "python",
   "name": "python3"
  },
  "language_info": {
   "codemirror_mode": {
    "name": "ipython",
    "version": 3
   },
   "file_extension": ".py",
   "mimetype": "text/x-python",
   "name": "python",
   "nbconvert_exporter": "python",
   "pygments_lexer": "ipython3",
   "version": "3.11.4"
  }
 },
 "nbformat": 4,
 "nbformat_minor": 5
}
