{
 "cells": [
  {
   "cell_type": "code",
   "execution_count": null,
   "id": "f319241e",
   "metadata": {},
   "outputs": [],
   "source": [
    "import numpy as np\n",
    "\n",
    "def f_euclidean_dist(x1, y1, x2, y2):\n",
    "    # Calculate the euclidean distance between the coords\n",
    "    # x1,x2 = coordenates X of the points (it can be a vector)\n",
    "    # y1,y2 = coordenates Y of the points (it can be a vector)\n",
    "    d = (np.sqrt((x1-x2)**2 + (y1-y2)**2))\n",
    "    return d"
   ]
  }
 ],
 "metadata": {
  "kernelspec": {
   "display_name": "Python 3 (ipykernel)",
   "language": "python",
   "name": "python3"
  },
  "language_info": {
   "codemirror_mode": {
    "name": "ipython",
    "version": 3
   },
   "file_extension": ".py",
   "mimetype": "text/x-python",
   "name": "python",
   "nbconvert_exporter": "python",
   "pygments_lexer": "ipython3",
   "version": "3.11.4"
  }
 },
 "nbformat": 4,
 "nbformat_minor": 5
}
