{
 "cells": [
  {
   "cell_type": "code",
   "execution_count": null,
   "id": "cf53e869",
   "metadata": {},
   "outputs": [],
   "source": [
    "def f_DKL_w_OR(weights_or, z_target_opt, classes_obs, pmf_diff_z_plus_z, edges_z):\n",
    "    # Step 1: Associate the weights of observations according to its class in relation to the target + Normalization of the weights. For each target, they need to sum 1.\n",
    "    weights_obs = np.zeros((classes_obs.shape[0], classes_obs.shape[1])) # weights of the neighbors, based on the lag class (neighbors, target)\n",
    "    normalized_weight_obs = np.zeros((classes_obs.shape[0], classes_obs.shape[1])) # normalized weights of the neighbors, where each column sum to 1 (neighbors, target, set of weights)\n",
    "    for target in range(classes_obs.shape[1]): # for each target\n",
    "        for i in range(classes_obs.shape[0]): # for each neighbor\n",
    "            if classes_obs[i, target] != 0: # in case there is an associated class\n",
    "                weights_obs[i, target] = weights_or[classes_obs[i, target]] # save the weight of the class\n",
    "    for target in range(classes_obs.shape[1]): # for each target\n",
    "        for i in range(classes_obs.shape[0]): # for each neighbor\n",
    "            normalized_weight_obs[i, target] = weights_obs[i, target] / np.sum(weights_obs[:, target]) # normalize the weights of the column\n",
    "    # Step 2: OR PMF - Cross-validation\n",
    "    # predict the z PMF of the target based on the OR combination of the neighbors\n",
    "    # cross-validation: obtain the probability of the z_obs on the predicted z PMF\n",
    "    pmf_OR = [None] * classes_obs.shape[1] # cell for the predicted z PMFs\n",
    "    # calculate weighted z PMF_OR of the target\n",
    "    for target in range(classes_obs.shape[1]): # for each target\n",
    "        idx = list(range(0, target)) + list(range(target+1, classes_obs.shape[0])) # it jumps when target = neighbor (when i=j)\n",
    "        pmfs_ = np.concatenate(pmf_diff_z_plus_z[idx, target]) # take the PMF\n",
    "        weights_ = normalized_weight_obs[idx, target] # take the normalized weights\n",
    "        pmf_OR[target] = f_linear_aggregation(pmfs_, weights_) # save the predicted z PMF of the target (0 = purely OR combination)\n",
    "    PMF_true = np.ones(classes_obs.shape[0])\n",
    "    DKL_w_OR = f_performance_prob(z_target_opt, pmf_OR, PMF_true, edges_z)\n",
    "    if len(varargout) >= 2:\n",
    "        varargout[0] = normalized_weight_obs\n",
    "        varargout[1] = pmf_OR\n",
    "    return DKL_w_OR\n"
   ]
  }
 ],
 "metadata": {
  "kernelspec": {
   "display_name": "Python 3 (ipykernel)",
   "language": "python",
   "name": "python3"
  },
  "language_info": {
   "codemirror_mode": {
    "name": "ipython",
    "version": 3
   },
   "file_extension": ".py",
   "mimetype": "text/x-python",
   "name": "python",
   "nbconvert_exporter": "python",
   "pygments_lexer": "ipython3",
   "version": "3.11.4"
  }
 },
 "nbformat": 4,
 "nbformat_minor": 5
}
