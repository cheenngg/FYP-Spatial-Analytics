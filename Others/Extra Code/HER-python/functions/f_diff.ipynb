{
 "cells": [
  {
   "cell_type": "code",
   "execution_count": null,
   "id": "55953f4e",
   "metadata": {},
   "outputs": [],
   "source": [
    "def f_diff(ObsA, ObsB):\n",
    "    # Calculate the difference between 2 observations\n",
    "    # ObsA,ObsB = observed value (it can be a vector)\n",
    "    diff = ObsA - ObsB\n",
    "    return diff"
   ]
  }
 ],
 "metadata": {
  "kernelspec": {
   "display_name": "Python 3 (ipykernel)",
   "language": "python",
   "name": "python3"
  },
  "language_info": {
   "codemirror_mode": {
    "name": "ipython",
    "version": 3
   },
   "file_extension": ".py",
   "mimetype": "text/x-python",
   "name": "python",
   "nbconvert_exporter": "python",
   "pygments_lexer": "ipython3",
   "version": "3.11.4"
  }
 },
 "nbformat": 4,
 "nbformat_minor": 5
}
