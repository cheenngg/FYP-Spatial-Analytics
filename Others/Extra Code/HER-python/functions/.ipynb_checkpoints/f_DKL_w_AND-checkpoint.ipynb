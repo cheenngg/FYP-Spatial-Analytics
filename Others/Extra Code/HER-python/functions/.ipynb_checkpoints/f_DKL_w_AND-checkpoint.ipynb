{
 "cells": [
  {
   "cell_type": "code",
   "execution_count": null,
   "id": "f4b0116e",
   "metadata": {},
   "outputs": [],
   "source": [
    "def f_DKL_w_AND(weights_and, z_target_opt, classes_obs, pmf_diff_z_plus_z, edges_z):\n",
    "    # Step 1: Associate the weights of observations according to its class in relation to the target\n",
    "    weight_and_obs = np.zeros((classes_obs.shape[0], classes_obs.shape[1]))\n",
    "    for target in range(classes_obs.shape[1]):\n",
    "        for i in range(classes_obs.shape[0]):\n",
    "            if classes_obs[i, target] != 0:\n",
    "                weight_and_obs[i, target] = weights_and[classes_obs[i, target]]\n",
    "    \n",
    "    # Step 2: AND PMF - Cross-validation\n",
    "    pmf_AND = []\n",
    "    for target in range(classes_obs.shape[1]):\n",
    "        idx = list(range(target)) + list(range(target+1, classes_obs.shape[0]))\n",
    "        pmfs_ = [pmf_diff_z_plus_z[i][target] for i in idx]\n",
    "        weights_and_ = weight_and_obs[idx, target]\n",
    "        pmf_AND.append(f_loglinear_aggregation(pmfs_, weights_and_))\n",
    "    \n",
    "    PMF_true = np.ones(classes_obs.shape[0])\n",
    "    DKL_w_AND = f_performance_prob(z_target_opt, pmf_AND, PMF_true, edges_z)\n",
    "    \n",
    "    if len(varargout) >= 2:\n",
    "        varargout[0] = weight_and_obs\n",
    "        varargout[1] = pmf_AND\n",
    "    \n",
    "    return DKL_w_AND, varargout\n"
   ]
  }
 ],
 "metadata": {
  "kernelspec": {
   "display_name": "Python 3 (ipykernel)",
   "language": "python",
   "name": "python3"
  },
  "language_info": {
   "codemirror_mode": {
    "name": "ipython",
    "version": 3
   },
   "file_extension": ".py",
   "mimetype": "text/x-python",
   "name": "python",
   "nbconvert_exporter": "python",
   "pygments_lexer": "ipython3",
   "version": "3.11.4"
  }
 },
 "nbformat": 4,
 "nbformat_minor": 5
}
