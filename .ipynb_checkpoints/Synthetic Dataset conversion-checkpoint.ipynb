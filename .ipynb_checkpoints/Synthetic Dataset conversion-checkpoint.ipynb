{
 "cells": [
  {
   "cell_type": "markdown",
   "id": "f634e493",
   "metadata": {},
   "source": [
    "# Code to convert synthetic datasets in .mat extenstion to csv files "
   ]
  },
  {
   "cell_type": "code",
   "execution_count": 92,
   "id": "72d96ec8",
   "metadata": {},
   "outputs": [],
   "source": [
    "import scipy.io\n",
    "import pandas as pd\n",
    "import os\n",
    "def transform_file(filename):\n",
    "    \n",
    "    # Load your .mat file\n",
    "    mat = scipy.io.loadmat(f'HER-Master/datasets/{filename}.mat')\n",
    "    \n",
    "    #indexes = mat['idx_cal'].flatten()\n",
    "    x_cal = mat['x_cal']\n",
    "    x_test = mat['x_test']\n",
    "    x_val = mat['x_val']\n",
    "\n",
    "    y_cal = mat['y_cal']\n",
    "    y_test = mat['y_test']\n",
    "    y_val = mat['y_val']\n",
    "\n",
    "    z_cal = mat['z_cal']\n",
    "    z_test = mat['z_test']\n",
    "    z_val = mat['z_val']\n",
    "    \n",
    "    calibration_data = {\n",
    "    'x': x_cal.flatten(),\n",
    "    'y': y_cal.flatten(),\n",
    "    'z': z_cal.flatten()\n",
    "    }\n",
    "\n",
    "    validation_data = {\n",
    "        'x': x_val.flatten(),\n",
    "        'y': y_val.flatten(),\n",
    "        'z': z_val.flatten()\n",
    "    }\n",
    "\n",
    "    test_data = {\n",
    "        'x': x_test.flatten(),\n",
    "        'y': y_test.flatten(),\n",
    "        'z': z_test.flatten()\n",
    "    }\n",
    "\n",
    "    calibration_df = pd.DataFrame(calibration_data) #created dataframe\n",
    "    validation_df = pd.DataFrame(validation_data)\n",
    "    test_df = pd.DataFrame(test_data)\n",
    "    \n",
    "    return calibration_df, validation_df, test_df"
   ]
  },
  {
   "cell_type": "code",
   "execution_count": 95,
   "id": "f8ae6991",
   "metadata": {},
   "outputs": [],
   "source": [
    "files = ['SR0_input_randomfield_cal200', 'SR0_input_randomfield_cal400','SR0_input_randomfield_cal600',\n",
    "        'SR0_input_randomfield_cal800', 'SR0_input_randomfield_cal1000', 'SR0_input_randomfield_cal1500', 'SR0_input_randomfield_cal2000']\n",
    "\n",
    "for file in files:\n",
    "    \n",
    "    folder_path = 'Synthetic Data/SR0'\n",
    "    cal,val,test = transform_file(file)\n",
    "    \n",
    "    cal.to_csv(os.path.join(folder_path, f'cal_{file}.csv'), index=False)\n",
    "    val.to_csv(os.path.join(folder_path, f'val_{file}.csv'), index=False)\n",
    "    test.to_csv(os.path.join(folder_path, f'test_{file}.csv'), index=False)"
   ]
  }
 ],
 "metadata": {
  "kernelspec": {
   "display_name": "Python 3 (ipykernel)",
   "language": "python",
   "name": "python3"
  },
  "language_info": {
   "codemirror_mode": {
    "name": "ipython",
    "version": 3
   },
   "file_extension": ".py",
   "mimetype": "text/x-python",
   "name": "python",
   "nbconvert_exporter": "python",
   "pygments_lexer": "ipython3",
   "version": "3.11.4"
  }
 },
 "nbformat": 4,
 "nbformat_minor": 5
}
