{
 "cells": [
  {
   "cell_type": "markdown",
   "id": "43c25fc8",
   "metadata": {},
   "source": [
    "# Inverse distance weighting"
   ]
  },
  {
   "cell_type": "markdown",
   "id": "238cfb21",
   "metadata": {},
   "source": [
    "https://pareekshithkatti.medium.com/inverse-distance-weighting-interpolation-in-python-68351fb612d2"
   ]
  },
  {
   "cell_type": "markdown",
   "id": "fd029f40",
   "metadata": {},
   "source": [
    "Python package: https://github.com/yahyatamim/pyidw\n",
    "\n",
    "IDW based on paper: https://colab.research.google.com/github/caiociardelli/sphglltools/blob/main/doc/9_Inverse_distance_weighting.ipynb#scrollTo=yM5SAdS8Sunj\n",
    "\n",
    "IDW with youtube video:\n",
    "https://github.com/adenarayana/Python-Matplotlib/blob/main/008_IDWInterpolation/008_IDWInterpolation.ipynb"
   ]
  },
  {
   "cell_type": "code",
   "execution_count": null,
   "id": "38d3379c",
   "metadata": {},
   "outputs": [],
   "source": [
    "import numpy as np\n",
    "import pandas as pd\n",
    "import matplotlib.pyplot as plt"
   ]
  },
  {
   "cell_type": "code",
   "execution_count": 3,
   "id": "b586e11a",
   "metadata": {},
   "outputs": [],
   "source": [
    "crimes_df = pd.read_csv(\"crimes_processed.csv\")\n",
    "meuse_df = pd.read_csv(\"meuse_processed.csv\")"
   ]
  },
  {
   "cell_type": "code",
   "execution_count": 14,
   "id": "c5c18326",
   "metadata": {},
   "outputs": [],
   "source": [
    "x_coordinates = [181074, 179463, 182080]\n",
    "y_coordinates = [333618, 330389, 333718]"
   ]
  },
  {
   "cell_type": "code",
   "execution_count": 15,
   "id": "9e68874c",
   "metadata": {},
   "outputs": [],
   "source": [
    "interpolate_data = pd.DataFrame({\n",
    "    'x': x_coordinates,\n",
    "    'y': y_coordinates\n",
    "})"
   ]
  },
  {
   "cell_type": "code",
   "execution_count": 16,
   "id": "b0692e73",
   "metadata": {},
   "outputs": [
    {
     "data": {
      "text/html": [
       "<div>\n",
       "<style scoped>\n",
       "    .dataframe tbody tr th:only-of-type {\n",
       "        vertical-align: middle;\n",
       "    }\n",
       "\n",
       "    .dataframe tbody tr th {\n",
       "        vertical-align: top;\n",
       "    }\n",
       "\n",
       "    .dataframe thead th {\n",
       "        text-align: right;\n",
       "    }\n",
       "</style>\n",
       "<table border=\"1\" class=\"dataframe\">\n",
       "  <thead>\n",
       "    <tr style=\"text-align: right;\">\n",
       "      <th></th>\n",
       "      <th>x</th>\n",
       "      <th>y</th>\n",
       "    </tr>\n",
       "  </thead>\n",
       "  <tbody>\n",
       "    <tr>\n",
       "      <th>0</th>\n",
       "      <td>181074</td>\n",
       "      <td>333618</td>\n",
       "    </tr>\n",
       "    <tr>\n",
       "      <th>1</th>\n",
       "      <td>179463</td>\n",
       "      <td>330389</td>\n",
       "    </tr>\n",
       "    <tr>\n",
       "      <th>2</th>\n",
       "      <td>182080</td>\n",
       "      <td>333718</td>\n",
       "    </tr>\n",
       "  </tbody>\n",
       "</table>\n",
       "</div>"
      ],
      "text/plain": [
       "        x       y\n",
       "0  181074  333618\n",
       "1  179463  330389\n",
       "2  182080  333718"
      ]
     },
     "execution_count": 16,
     "metadata": {},
     "output_type": "execute_result"
    }
   ],
   "source": [
    "interpolate_data"
   ]
  },
  {
   "cell_type": "code",
   "execution_count": 17,
   "id": "ca347146",
   "metadata": {},
   "outputs": [
    {
     "data": {
      "text/plain": [
       "333611"
      ]
     },
     "execution_count": 17,
     "metadata": {},
     "output_type": "execute_result"
    }
   ],
   "source": [
    "meuse_df['y'][0]"
   ]
  },
  {
   "cell_type": "code",
   "execution_count": 18,
   "id": "c1b0baed",
   "metadata": {},
   "outputs": [],
   "source": [
    "# Calculate Euclidean distance between two points\n",
    "def distance(x1, x2, y2, y1):\n",
    "    return np.sqrt((x2 - x1)**2 + (y2 - y1)**2)"
   ]
  },
  {
   "cell_type": "code",
   "execution_count": 19,
   "id": "8279a66b",
   "metadata": {},
   "outputs": [
    {
     "data": {
      "text/plain": [
       "numpy.int64"
      ]
     },
     "execution_count": 19,
     "metadata": {},
     "output_type": "execute_result"
    }
   ],
   "source": [
    "type(interpolate_data['x'][0])"
   ]
  },
  {
   "cell_type": "code",
   "execution_count": 21,
   "id": "7abd6b3f",
   "metadata": {},
   "outputs": [],
   "source": [
    "# list of velocity from IDW\n",
    "vIDW = []\n",
    "\n",
    "for i in range(len(interpolate_data)):\n",
    "    \n",
    "    #=========get the distance: the closest 5 points=========#\n",
    "    \n",
    "    nPoints = 5 # number of points\n",
    "    dList = []\n",
    "    \n",
    "    for j in range(len(meuse_df)):\n",
    "        dist = distance(interpolate_data['x'][i], meuse_df['x'][j], interpolate_data['y'][i], meuse_df['y'][j])\n",
    "        dList.append(dist) \n",
    "        \n",
    "    dListDF = pd.Series(dList)\n",
    "    dListDF.sort_values(ascending=True, inplace=True)\n",
    "    dListDF = dListDF[0:nPoints]\n",
    "    \n",
    "    #=========check the distance=========#\n",
    "    \n",
    "    if dListDF.iloc[0] <= 1: # if the distance from interpolation point less than equal to 1 meter\n",
    "        \n",
    "        vIDW.append(meuse_df['mag'][dListDF.index.values[0]])\n",
    "        \n",
    "    else:    \n",
    "    #=========IDW=========#    \n",
    "        \n",
    "        # get the velocity data: the closest 5 data\n",
    "        \n",
    "        vZinc = []\n",
    "        for idx in dListDF.index.values:\n",
    "            vZinc.append(meuse_df['zinc'][idx])\n",
    "        vZinc = np.array(vZinc)\n",
    "\n",
    "        # weight calculation\n",
    "        \n",
    "        p = 2                     # power parameter\n",
    "        wList = []\n",
    "        for d in dListDF:\n",
    "            wList.append(1/d**p) \n",
    "        wList = np.array(wList)\n",
    "\n",
    "        # IDW\n",
    "        \n",
    "        vIDW.append(np.dot(vZinc,np.transpose(wList))/np.sum(wList)) \n",
    "\n",
    "# final result\n",
    "vIDW = np.array(vIDW)"
   ]
  },
  {
   "cell_type": "code",
   "execution_count": 22,
   "id": "782eaf41",
   "metadata": {},
   "outputs": [],
   "source": [
    "i = 0 # \n",
    "nPoints = 5 # number of points\n",
    "dList = []\n",
    "\n",
    "for j in range(len(meuse_df)):\n",
    "    dList.append(distance(interpolate_data['x'][i], \n",
    "                          meuse_df['x'][j],\n",
    "                          interpolate_data['y'][i], \n",
    "                          meuse_df['y'][j])) \n",
    "\n",
    "dListDF = pd.Series(dList)\n",
    "dListDF.sort_values(ascending=True, inplace=True)\n",
    "dListDF = dListDF[0:nPoints]\n"
   ]
  },
  {
   "cell_type": "code",
   "execution_count": 23,
   "id": "a4e03529",
   "metadata": {},
   "outputs": [
    {
     "data": {
      "text/plain": [
       "0      7.280110\n",
       "1     77.466122\n",
       "2    121.827747\n",
       "7    259.295199\n",
       "3    261.021072\n",
       "dtype: float64"
      ]
     },
     "execution_count": 23,
     "metadata": {},
     "output_type": "execute_result"
    }
   ],
   "source": [
    "dListDF"
   ]
  },
  {
   "cell_type": "code",
   "execution_count": 24,
   "id": "74f4826f",
   "metadata": {},
   "outputs": [
    {
     "data": {
      "text/html": [
       "<div>\n",
       "<style scoped>\n",
       "    .dataframe tbody tr th:only-of-type {\n",
       "        vertical-align: middle;\n",
       "    }\n",
       "\n",
       "    .dataframe tbody tr th {\n",
       "        vertical-align: top;\n",
       "    }\n",
       "\n",
       "    .dataframe thead th {\n",
       "        text-align: right;\n",
       "    }\n",
       "</style>\n",
       "<table border=\"1\" class=\"dataframe\">\n",
       "  <thead>\n",
       "    <tr style=\"text-align: right;\">\n",
       "      <th></th>\n",
       "      <th>x</th>\n",
       "      <th>y</th>\n",
       "      <th>cadmium</th>\n",
       "      <th>copper</th>\n",
       "      <th>lead</th>\n",
       "      <th>zinc</th>\n",
       "      <th>elev</th>\n",
       "      <th>dist</th>\n",
       "      <th>om</th>\n",
       "      <th>ffreq</th>\n",
       "      <th>soil</th>\n",
       "      <th>lime</th>\n",
       "      <th>landuse</th>\n",
       "      <th>dist.m</th>\n",
       "    </tr>\n",
       "  </thead>\n",
       "  <tbody>\n",
       "    <tr>\n",
       "      <th>0</th>\n",
       "      <td>181072</td>\n",
       "      <td>333611</td>\n",
       "      <td>11.7</td>\n",
       "      <td>85</td>\n",
       "      <td>299</td>\n",
       "      <td>1022</td>\n",
       "      <td>7.909</td>\n",
       "      <td>0.001358</td>\n",
       "      <td>13.6</td>\n",
       "      <td>1</td>\n",
       "      <td>1</td>\n",
       "      <td>1</td>\n",
       "      <td>Ah</td>\n",
       "      <td>50</td>\n",
       "    </tr>\n",
       "    <tr>\n",
       "      <th>1</th>\n",
       "      <td>181025</td>\n",
       "      <td>333558</td>\n",
       "      <td>8.6</td>\n",
       "      <td>81</td>\n",
       "      <td>277</td>\n",
       "      <td>1141</td>\n",
       "      <td>6.983</td>\n",
       "      <td>0.012224</td>\n",
       "      <td>14.0</td>\n",
       "      <td>1</td>\n",
       "      <td>1</td>\n",
       "      <td>1</td>\n",
       "      <td>Ah</td>\n",
       "      <td>30</td>\n",
       "    </tr>\n",
       "    <tr>\n",
       "      <th>2</th>\n",
       "      <td>181165</td>\n",
       "      <td>333537</td>\n",
       "      <td>6.5</td>\n",
       "      <td>68</td>\n",
       "      <td>199</td>\n",
       "      <td>640</td>\n",
       "      <td>7.800</td>\n",
       "      <td>0.103029</td>\n",
       "      <td>13.0</td>\n",
       "      <td>1</td>\n",
       "      <td>1</td>\n",
       "      <td>1</td>\n",
       "      <td>Ah</td>\n",
       "      <td>150</td>\n",
       "    </tr>\n",
       "    <tr>\n",
       "      <th>7</th>\n",
       "      <td>181027</td>\n",
       "      <td>333363</td>\n",
       "      <td>2.8</td>\n",
       "      <td>29</td>\n",
       "      <td>150</td>\n",
       "      <td>406</td>\n",
       "      <td>8.490</td>\n",
       "      <td>0.092152</td>\n",
       "      <td>9.5</td>\n",
       "      <td>1</td>\n",
       "      <td>1</td>\n",
       "      <td>0</td>\n",
       "      <td>Ab</td>\n",
       "      <td>120</td>\n",
       "    </tr>\n",
       "    <tr>\n",
       "      <th>3</th>\n",
       "      <td>181298</td>\n",
       "      <td>333484</td>\n",
       "      <td>2.6</td>\n",
       "      <td>81</td>\n",
       "      <td>116</td>\n",
       "      <td>257</td>\n",
       "      <td>7.655</td>\n",
       "      <td>0.190094</td>\n",
       "      <td>8.0</td>\n",
       "      <td>1</td>\n",
       "      <td>2</td>\n",
       "      <td>0</td>\n",
       "      <td>Ga</td>\n",
       "      <td>270</td>\n",
       "    </tr>\n",
       "  </tbody>\n",
       "</table>\n",
       "</div>"
      ],
      "text/plain": [
       "        x       y  cadmium  copper  lead  zinc   elev      dist    om  ffreq  \\\n",
       "0  181072  333611     11.7      85   299  1022  7.909  0.001358  13.6      1   \n",
       "1  181025  333558      8.6      81   277  1141  6.983  0.012224  14.0      1   \n",
       "2  181165  333537      6.5      68   199   640  7.800  0.103029  13.0      1   \n",
       "7  181027  333363      2.8      29   150   406  8.490  0.092152   9.5      1   \n",
       "3  181298  333484      2.6      81   116   257  7.655  0.190094   8.0      1   \n",
       "\n",
       "   soil  lime landuse  dist.m  \n",
       "0     1     1      Ah      50  \n",
       "1     1     1      Ah      30  \n",
       "2     1     1      Ah     150  \n",
       "7     1     0      Ab     120  \n",
       "3     2     0      Ga     270  "
      ]
     },
     "execution_count": 24,
     "metadata": {},
     "output_type": "execute_result"
    }
   ],
   "source": [
    "meuse_df.iloc[dListDF.index.values]"
   ]
  },
  {
   "cell_type": "code",
   "execution_count": 25,
   "id": "d32eeda8",
   "metadata": {},
   "outputs": [
    {
     "name": "stdout",
     "output_type": "stream",
     "text": [
      "False\n"
     ]
    }
   ],
   "source": [
    "if dListDF.iloc[0] <= 1: # if the distance from interpolation point less than equal to 1 meter\n",
    "\n",
    "    meuse_df['zinc'][dListDF.index.values[0]]\n",
    "    print(True)\n",
    "\n",
    "else:\n",
    "    \n",
    "    print(False)"
   ]
  },
  {
   "cell_type": "code",
   "execution_count": 27,
   "id": "2d6e96ab",
   "metadata": {},
   "outputs": [
    {
     "data": {
      "text/plain": [
       "1020.6254088301395"
      ]
     },
     "execution_count": 27,
     "metadata": {},
     "output_type": "execute_result"
    }
   ],
   "source": [
    "#=========IDW=========#    \n",
    "\n",
    "# get the velocity data: the closest 5 data\n",
    "\n",
    "vZinc = []\n",
    "for idx in dListDF.index.values:\n",
    "    vZinc.append(meuse_df['zinc'][idx])\n",
    "vZinc = np.array(vZinc)\n",
    "\n",
    "# weight calculation\n",
    "\n",
    "p = 2                     # power parameter\n",
    "wList = []\n",
    "for d in dListDF:\n",
    "    wList.append(1/d**p) \n",
    "wList = np.array(wList)\n",
    "\n",
    "# IDW\n",
    "\n",
    "np.dot(vZinc,np.transpose(wList))/np.sum(wList)"
   ]
  }
 ],
 "metadata": {
  "kernelspec": {
   "display_name": "Python 3 (ipykernel)",
   "language": "python",
   "name": "python3"
  },
  "language_info": {
   "codemirror_mode": {
    "name": "ipython",
    "version": 3
   },
   "file_extension": ".py",
   "mimetype": "text/x-python",
   "name": "python",
   "nbconvert_exporter": "python",
   "pygments_lexer": "ipython3",
   "version": "3.11.4"
  }
 },
 "nbformat": 4,
 "nbformat_minor": 5
}
